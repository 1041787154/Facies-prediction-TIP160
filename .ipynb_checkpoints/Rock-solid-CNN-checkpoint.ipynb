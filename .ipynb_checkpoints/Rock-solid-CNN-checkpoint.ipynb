{
 "cells": [
  {
   "cell_type": "markdown",
   "metadata": {},
   "source": [
    "# Creating a CNN to analyse Facies data"
   ]
  },
  {
   "cell_type": "markdown",
   "metadata": {},
   "source": [
    "Based on the research in the following article: "
   ]
  },
  {
   "cell_type": "code",
   "execution_count": 2,
   "metadata": {},
   "outputs": [
    {
     "name": "stderr",
     "output_type": "stream",
     "text": [
      "/Users/Petter/anaconda3/lib/python3.7/site-packages/tensorflow/python/framework/dtypes.py:526: FutureWarning: Passing (type, 1) or '1type' as a synonym of type is deprecated; in a future version of numpy, it will be understood as (type, (1,)) / '(1,)type'.\n",
      "  _np_qint8 = np.dtype([(\"qint8\", np.int8, 1)])\n",
      "/Users/Petter/anaconda3/lib/python3.7/site-packages/tensorflow/python/framework/dtypes.py:527: FutureWarning: Passing (type, 1) or '1type' as a synonym of type is deprecated; in a future version of numpy, it will be understood as (type, (1,)) / '(1,)type'.\n",
      "  _np_quint8 = np.dtype([(\"quint8\", np.uint8, 1)])\n",
      "/Users/Petter/anaconda3/lib/python3.7/site-packages/tensorflow/python/framework/dtypes.py:528: FutureWarning: Passing (type, 1) or '1type' as a synonym of type is deprecated; in a future version of numpy, it will be understood as (type, (1,)) / '(1,)type'.\n",
      "  _np_qint16 = np.dtype([(\"qint16\", np.int16, 1)])\n",
      "/Users/Petter/anaconda3/lib/python3.7/site-packages/tensorflow/python/framework/dtypes.py:529: FutureWarning: Passing (type, 1) or '1type' as a synonym of type is deprecated; in a future version of numpy, it will be understood as (type, (1,)) / '(1,)type'.\n",
      "  _np_quint16 = np.dtype([(\"quint16\", np.uint16, 1)])\n",
      "/Users/Petter/anaconda3/lib/python3.7/site-packages/tensorflow/python/framework/dtypes.py:530: FutureWarning: Passing (type, 1) or '1type' as a synonym of type is deprecated; in a future version of numpy, it will be understood as (type, (1,)) / '(1,)type'.\n",
      "  _np_qint32 = np.dtype([(\"qint32\", np.int32, 1)])\n",
      "/Users/Petter/anaconda3/lib/python3.7/site-packages/tensorflow/python/framework/dtypes.py:535: FutureWarning: Passing (type, 1) or '1type' as a synonym of type is deprecated; in a future version of numpy, it will be understood as (type, (1,)) / '(1,)type'.\n",
      "  np_resource = np.dtype([(\"resource\", np.ubyte, 1)])\n",
      "Using TensorFlow backend.\n"
     ]
    }
   ],
   "source": [
    "# from __future__ import absolute_import, division, print_function, unicode_literals\n",
    "\n",
    "import tensorflow as tf\n",
    "\n",
    "from tensorflow import feature_column\n",
    "from tensorflow.keras import layers, models\n",
    "from sklearn.impute import SimpleImputer\n",
    "\n",
    "from sklearn.metrics import confusion_matrix, f1_score, accuracy_score\n",
    "\n",
    "from statistics import mean\n",
    "import pandas as pd\n",
    "import numpy as np\n",
    "import matplotlib.pyplot as plt\n",
    "\n",
    "from keras.models import Sequential\n",
    "from keras.layers import Dense, Dropout, Activation, Flatten, normalization, Convolution1D\n",
    "from keras.callbacks import History\n",
    "from keras.utils import np_utils\n",
    "from keras.callbacks import History\n",
    "from sklearn import metrics\n",
    "from classification_utilities import display_cm"
   ]
  },
  {
   "cell_type": "markdown",
   "metadata": {},
   "source": [
    "### Load data and replace missing values"
   ]
  },
  {
   "cell_type": "code",
   "execution_count": 3,
   "metadata": {},
   "outputs": [],
   "source": [
    "# Load data\n",
    "\n",
    "facies_data = pd.read_csv('./datasets/facies_vectors.csv')\n",
    "test_data = pd.read_csv('./datasets/validation_data_with_facies_new.csv')\n",
    "X_test = test_data.drop('Facies', axis=1)\n",
    "y_test = test_data['Facies']\n",
    "\n",
    "X_test = X_test.drop('Unnamed: 0', axis=1)\n",
    "\n",
    "# Parameters\n",
    "\n",
    "non_feature_columns = ['Formation', 'Well Name', 'Depth']\n",
    "feature_names = ['Facies', 'Formation', 'Well Name', 'Depth', 'GR', 'ILD_log10', 'DeltaPHI', 'PHIND', 'PE', 'NM_M', 'RELPOS']\n",
    "facies_names = ['SS', 'CSiS', 'FSiS', 'SiSh', 'MS', 'WS', 'D', 'PS', 'BS']\n",
    "facies_colors = ['#F4D03F', '#F5B041','#DC7633','#6E2C00', '#1B4F72','#2E86C1', '#AED6F1', '#A569BD', '#196F3D']\n",
    "\n",
    "# Fill 'PE' missing values with mean\n",
    "if facies_data['PE'].isnull().any():\n",
    "    facies_data['PE'] = facies_data['PE'].fillna(value=facies_data['PE'].mean())\n",
    "\n",
    "# Store features and labels\n",
    "train = facies_data #.drop(non_feature_columns, axis=1)\n",
    "\n",
    "test = test_data #.drop(non_feature_columns, axis=1)\n",
    "\n",
    "# Store well labels and depths\n",
    "well = facies_data['Well Name']\n",
    "depth = facies_data['Depth']\n",
    "\n",
    "\n",
    "#train = pd.DataFrame(imp.transform(train), columns=feature_names)\n",
    "#validate = pd.DataFrame(imp.transform(validate), columns=feature_names)\n",
    "#test = pd.DataFrame(imp.transform(test), columns=feature_names)\n"
   ]
  },
  {
   "cell_type": "code",
   "execution_count": 4,
   "metadata": {},
   "outputs": [
    {
     "data": {
      "text/plain": [
       "((830, 10), (830,), (4149, 11))"
      ]
     },
     "execution_count": 4,
     "metadata": {},
     "output_type": "execute_result"
    }
   ],
   "source": [
    "X_test.shape, y_test.shape, train.shape"
   ]
  },
  {
   "cell_type": "code",
   "execution_count": 5,
   "metadata": {},
   "outputs": [],
   "source": [
    "def prepare_feature_vectors(data, features, window_width):\n",
    "\n",
    "    raw_feature_vectors = data[features]\n",
    "    well_labels = data['Well Name']\n",
    "    num_features = np.shape(raw_feature_vectors)[1]\n",
    "\n",
    "    output = np.zeros((1, window_width, num_features))\n",
    "    for x in well_labels.unique():\n",
    "        well = raw_feature_vectors[well_labels == x].values\n",
    "        well = np.concatenate((np.repeat(well[0:1], np.floor((window_width-1)/2.0), axis=0), well,\n",
    "                              np.repeat(well[-1:None], np.floor(window_width/2.0), axis=0)), axis=0)\n",
    "\n",
    "        tmp = np.zeros((np.size(well, axis=0) - window_width + 1, window_width, num_features))\n",
    "        for i in np.arange(np.size(well, axis=0) - window_width + 1):\n",
    "            tmp[i] = np.reshape(well[i: i + window_width], (window_width, num_features))\n",
    "\n",
    "        output = np.append(output, tmp, axis=0)\n",
    "\n",
    "    return output[1:]"
   ]
  },
  {
   "cell_type": "code",
   "execution_count": 30,
   "metadata": {},
   "outputs": [
    {
     "name": "stdout",
     "output_type": "stream",
     "text": [
      "Training Samples= 4149    Test Samples= 830\n"
     ]
    }
   ],
   "source": [
    "\n",
    "# Convert facies class to one-hot-vector representation\n",
    "num_classes = train['Facies'].unique().size\n",
    "y_train = np_utils.to_categorical(train['Facies'].values-1, num_classes)\n",
    "\n",
    "# Window around central value and define the seven features we are using\n",
    "window_width = 15\n",
    "feature_list = ['GR', 'ILD_log10', 'DeltaPHI', 'PHIND', 'PE', 'NM_M', 'RELPOS']\n",
    "X_train = prepare_feature_vectors(train, feature_list, window_width)\n",
    "X_test = prepare_feature_vectors(test, feature_list, window_width)\n",
    "\n",
    "num_train_samples = np.asarray(np.shape(X_train))[0]\n",
    "num_test_samples = np.asarray(np.shape(X_test))[0]\n",
    "\n",
    "print('Training Samples=', num_train_samples, '   Test Samples=', num_test_samples)"
   ]
  },
  {
   "cell_type": "code",
   "execution_count": 31,
   "metadata": {},
   "outputs": [
    {
     "name": "stderr",
     "output_type": "stream",
     "text": [
      "/Users/Petter/anaconda3/lib/python3.7/site-packages/ipykernel_launcher.py:7: UserWarning: Update your `Conv1D` call to the Keras 2 API: `Conv1D(12, 1, input_shape=(15, 7), padding=\"valid\")`\n",
      "  import sys\n",
      "/Users/Petter/anaconda3/lib/python3.7/site-packages/ipykernel_launcher.py:9: UserWarning: Update your `Conv1D` call to the Keras 2 API: `Conv1D(7, 1, padding=\"valid\")`\n",
      "  if __name__ == '__main__':\n",
      "/Users/Petter/anaconda3/lib/python3.7/site-packages/ipykernel_launcher.py:11: UserWarning: Update your `Conv1D` call to the Keras 2 API: `Conv1D(12, 3, padding=\"valid\")`\n",
      "  # This is added back by InteractiveShellApp.init_path()\n"
     ]
    },
    {
     "name": "stdout",
     "output_type": "stream",
     "text": [
      "Model: \"sequential_3\"\n",
      "_________________________________________________________________\n",
      "Layer (type)                 Output Shape              Param #   \n",
      "=================================================================\n",
      "conv1d_7 (Conv1D)            (None, 15, 12)            96        \n",
      "_________________________________________________________________\n",
      "activation_9 (Activation)    (None, 15, 12)            0         \n",
      "_________________________________________________________________\n",
      "conv1d_8 (Conv1D)            (None, 15, 7)             91        \n",
      "_________________________________________________________________\n",
      "activation_10 (Activation)   (None, 15, 7)             0         \n",
      "_________________________________________________________________\n",
      "conv1d_9 (Conv1D)            (None, 13, 12)            264       \n",
      "_________________________________________________________________\n",
      "activation_11 (Activation)   (None, 13, 12)            0         \n",
      "_________________________________________________________________\n",
      "dropout_5 (Dropout)          (None, 13, 12)            0         \n",
      "_________________________________________________________________\n",
      "flatten_3 (Flatten)          (None, 156)               0         \n",
      "_________________________________________________________________\n",
      "dense_5 (Dense)              (None, 48)                7536      \n",
      "_________________________________________________________________\n",
      "batch_normalization_3 (Batch (None, 48)                192       \n",
      "_________________________________________________________________\n",
      "activation_12 (Activation)   (None, 48)                0         \n",
      "_________________________________________________________________\n",
      "dropout_6 (Dropout)          (None, 48)                0         \n",
      "_________________________________________________________________\n",
      "dense_6 (Dense)              (None, 9)                 441       \n",
      "=================================================================\n",
      "Total params: 8,620\n",
      "Trainable params: 8,524\n",
      "Non-trainable params: 96\n",
      "_________________________________________________________________\n"
     ]
    }
   ],
   "source": [
    "# define neural network to classify facies\n",
    "num_filters = 12\n",
    "dropout_prob = 0.6\n",
    "\n",
    "convnet = Sequential()\n",
    "convnet.add(Convolution1D(num_filters, 1, border_mode='valid',\n",
    "                          input_shape=(window_width, len(feature_list))))\n",
    "convnet.add(Activation('relu'))\n",
    "convnet.add(Convolution1D(7, 1, border_mode='valid'))\n",
    "convnet.add(Activation('relu'))\n",
    "convnet.add(Convolution1D(num_filters, 3, border_mode='valid'))\n",
    "convnet.add(Activation('relu'))\n",
    "convnet.add(Dropout(dropout_prob / 2))\n",
    "\n",
    "convnet.add(Flatten())\n",
    "convnet.add(Dense(4 * num_filters))\n",
    "convnet.add(normalization.BatchNormalization())\n",
    "convnet.add(Activation('sigmoid'))\n",
    "convnet.add(Dropout(dropout_prob))\n",
    "\n",
    "convnet.add(Dense(num_classes, activation='softmax'))\n",
    "convnet.compile(loss='categorical_crossentropy', optimizer='adadelta', metrics=['accuracy'])\n",
    "convnet.summary()\n",
    "\n",
    "# save initial weights\n",
    "initial_weights = convnet.get_weights()"
   ]
  },
  {
   "cell_type": "code",
   "execution_count": 32,
   "metadata": {},
   "outputs": [],
   "source": [
    "\n",
    "\n",
    "# define training parameters and prepare arrays to store training metrics\n",
    "epochs_per_fold = 1000\n",
    "num_fold = 6\n",
    "roll_stride = np.ceil(num_train_samples/num_fold).astype(int)\n",
    "\n",
    "convnet_hist = History()\n",
    "hist = np.zeros((4, num_fold, epochs_per_fold))\n",
    "f1scores = np.zeros(num_fold)\n",
    "real_f1score = np.zeros(num_fold)\n",
    "y_test_ohv = np.zeros((num_test_samples, num_fold, num_classes))\n",
    "all_predictions = []\n",
    "\n",
    "\n",
    "# shuffle input data\n",
    "#rand_perm = np.random.permutation(num_train_samples)\n",
    "#X_train = X_train[rand_perm]\n",
    "#Y_train = Y_train[rand_perm]"
   ]
  },
  {
   "cell_type": "code",
   "execution_count": 33,
   "metadata": {},
   "outputs": [
    {
     "name": "stdout",
     "output_type": "stream",
     "text": [
      "F1 Score = 0.6726922149915643\n",
      "F1 Score = 0.6787177633164618\n",
      "F1 Score = 0.6729332369245601\n",
      "F1 Score = 0.6693179079296216\n"
     ]
    },
    {
     "ename": "KeyboardInterrupt",
     "evalue": "",
     "output_type": "error",
     "traceback": [
      "\u001b[0;31m---------------------------------------------------------------------------\u001b[0m",
      "\u001b[0;31mKeyboardInterrupt\u001b[0m                         Traceback (most recent call last)",
      "\u001b[0;32m<ipython-input-33-f81808b9cb2a>\u001b[0m in \u001b[0;36m<module>\u001b[0;34m\u001b[0m\n\u001b[1;32m      6\u001b[0m \u001b[0;34m\u001b[0m\u001b[0m\n\u001b[1;32m      7\u001b[0m     convnet.fit(X_train, y_train, batch_size=200, epochs=epochs_per_fold, verbose=0,\n\u001b[0;32m----> 8\u001b[0;31m                 validation_split=1.0/num_fold, callbacks=[convnet_hist])\n\u001b[0m\u001b[1;32m      9\u001b[0m \u001b[0;34m\u001b[0m\u001b[0m\n\u001b[1;32m     10\u001b[0m     hist[:, i, :] = [convnet_hist.history['accuracy'], convnet_hist.history['val_accuracy'],\n",
      "\u001b[0;32m~/anaconda3/lib/python3.7/site-packages/keras/engine/training.py\u001b[0m in \u001b[0;36mfit\u001b[0;34m(self, x, y, batch_size, epochs, verbose, callbacks, validation_split, validation_data, shuffle, class_weight, sample_weight, initial_epoch, steps_per_epoch, validation_steps, validation_freq, max_queue_size, workers, use_multiprocessing, **kwargs)\u001b[0m\n\u001b[1;32m   1237\u001b[0m                                         \u001b[0msteps_per_epoch\u001b[0m\u001b[0;34m=\u001b[0m\u001b[0msteps_per_epoch\u001b[0m\u001b[0;34m,\u001b[0m\u001b[0;34m\u001b[0m\u001b[0;34m\u001b[0m\u001b[0m\n\u001b[1;32m   1238\u001b[0m                                         \u001b[0mvalidation_steps\u001b[0m\u001b[0;34m=\u001b[0m\u001b[0mvalidation_steps\u001b[0m\u001b[0;34m,\u001b[0m\u001b[0;34m\u001b[0m\u001b[0;34m\u001b[0m\u001b[0m\n\u001b[0;32m-> 1239\u001b[0;31m                                         validation_freq=validation_freq)\n\u001b[0m\u001b[1;32m   1240\u001b[0m \u001b[0;34m\u001b[0m\u001b[0m\n\u001b[1;32m   1241\u001b[0m     def evaluate(self,\n",
      "\u001b[0;32m~/anaconda3/lib/python3.7/site-packages/keras/engine/training_arrays.py\u001b[0m in \u001b[0;36mfit_loop\u001b[0;34m(model, fit_function, fit_inputs, out_labels, batch_size, epochs, verbose, callbacks, val_function, val_inputs, shuffle, initial_epoch, steps_per_epoch, validation_steps, validation_freq)\u001b[0m\n\u001b[1;32m    194\u001b[0m                     \u001b[0mins_batch\u001b[0m\u001b[0;34m[\u001b[0m\u001b[0mi\u001b[0m\u001b[0;34m]\u001b[0m \u001b[0;34m=\u001b[0m \u001b[0mins_batch\u001b[0m\u001b[0;34m[\u001b[0m\u001b[0mi\u001b[0m\u001b[0;34m]\u001b[0m\u001b[0;34m.\u001b[0m\u001b[0mtoarray\u001b[0m\u001b[0;34m(\u001b[0m\u001b[0;34m)\u001b[0m\u001b[0;34m\u001b[0m\u001b[0;34m\u001b[0m\u001b[0m\n\u001b[1;32m    195\u001b[0m \u001b[0;34m\u001b[0m\u001b[0m\n\u001b[0;32m--> 196\u001b[0;31m                 \u001b[0mouts\u001b[0m \u001b[0;34m=\u001b[0m \u001b[0mfit_function\u001b[0m\u001b[0;34m(\u001b[0m\u001b[0mins_batch\u001b[0m\u001b[0;34m)\u001b[0m\u001b[0;34m\u001b[0m\u001b[0;34m\u001b[0m\u001b[0m\n\u001b[0m\u001b[1;32m    197\u001b[0m                 \u001b[0mouts\u001b[0m \u001b[0;34m=\u001b[0m \u001b[0mto_list\u001b[0m\u001b[0;34m(\u001b[0m\u001b[0mouts\u001b[0m\u001b[0;34m)\u001b[0m\u001b[0;34m\u001b[0m\u001b[0;34m\u001b[0m\u001b[0m\n\u001b[1;32m    198\u001b[0m                 \u001b[0;32mfor\u001b[0m \u001b[0ml\u001b[0m\u001b[0;34m,\u001b[0m \u001b[0mo\u001b[0m \u001b[0;32min\u001b[0m \u001b[0mzip\u001b[0m\u001b[0;34m(\u001b[0m\u001b[0mout_labels\u001b[0m\u001b[0;34m,\u001b[0m \u001b[0mouts\u001b[0m\u001b[0;34m)\u001b[0m\u001b[0;34m:\u001b[0m\u001b[0;34m\u001b[0m\u001b[0;34m\u001b[0m\u001b[0m\n",
      "\u001b[0;32m~/anaconda3/lib/python3.7/site-packages/tensorflow/python/keras/backend.py\u001b[0m in \u001b[0;36m__call__\u001b[0;34m(self, inputs)\u001b[0m\n\u001b[1;32m   3074\u001b[0m \u001b[0;34m\u001b[0m\u001b[0m\n\u001b[1;32m   3075\u001b[0m     fetched = self._callable_fn(*array_vals,\n\u001b[0;32m-> 3076\u001b[0;31m                                 run_metadata=self.run_metadata)\n\u001b[0m\u001b[1;32m   3077\u001b[0m     \u001b[0mself\u001b[0m\u001b[0;34m.\u001b[0m\u001b[0m_call_fetch_callbacks\u001b[0m\u001b[0;34m(\u001b[0m\u001b[0mfetched\u001b[0m\u001b[0;34m[\u001b[0m\u001b[0;34m-\u001b[0m\u001b[0mlen\u001b[0m\u001b[0;34m(\u001b[0m\u001b[0mself\u001b[0m\u001b[0;34m.\u001b[0m\u001b[0m_fetches\u001b[0m\u001b[0;34m)\u001b[0m\u001b[0;34m:\u001b[0m\u001b[0;34m]\u001b[0m\u001b[0;34m)\u001b[0m\u001b[0;34m\u001b[0m\u001b[0;34m\u001b[0m\u001b[0m\n\u001b[1;32m   3078\u001b[0m     return nest.pack_sequence_as(self._outputs_structure,\n",
      "\u001b[0;32m~/anaconda3/lib/python3.7/site-packages/tensorflow/python/client/session.py\u001b[0m in \u001b[0;36m__call__\u001b[0;34m(self, *args, **kwargs)\u001b[0m\n\u001b[1;32m   1437\u001b[0m           ret = tf_session.TF_SessionRunCallable(\n\u001b[1;32m   1438\u001b[0m               \u001b[0mself\u001b[0m\u001b[0;34m.\u001b[0m\u001b[0m_session\u001b[0m\u001b[0;34m.\u001b[0m\u001b[0m_session\u001b[0m\u001b[0;34m,\u001b[0m \u001b[0mself\u001b[0m\u001b[0;34m.\u001b[0m\u001b[0m_handle\u001b[0m\u001b[0;34m,\u001b[0m \u001b[0margs\u001b[0m\u001b[0;34m,\u001b[0m \u001b[0mstatus\u001b[0m\u001b[0;34m,\u001b[0m\u001b[0;34m\u001b[0m\u001b[0;34m\u001b[0m\u001b[0m\n\u001b[0;32m-> 1439\u001b[0;31m               run_metadata_ptr)\n\u001b[0m\u001b[1;32m   1440\u001b[0m         \u001b[0;32mif\u001b[0m \u001b[0mrun_metadata\u001b[0m\u001b[0;34m:\u001b[0m\u001b[0;34m\u001b[0m\u001b[0;34m\u001b[0m\u001b[0m\n\u001b[1;32m   1441\u001b[0m           \u001b[0mproto_data\u001b[0m \u001b[0;34m=\u001b[0m \u001b[0mtf_session\u001b[0m\u001b[0;34m.\u001b[0m\u001b[0mTF_GetBuffer\u001b[0m\u001b[0;34m(\u001b[0m\u001b[0mrun_metadata_ptr\u001b[0m\u001b[0;34m)\u001b[0m\u001b[0;34m\u001b[0m\u001b[0;34m\u001b[0m\u001b[0m\n",
      "\u001b[0;31mKeyboardInterrupt\u001b[0m: "
     ]
    }
   ],
   "source": [
    "# use 6-fold cross validation and train 6 neural networks, ending up with 6 sets of predictions\n",
    "for i in np.arange(num_fold):\n",
    "    convnet.set_weights(initial_weights)\n",
    "    X_train = np.roll(X_train, i*roll_stride, axis=0)\n",
    "    y_train = np.roll(y_train, i*roll_stride, axis=0)\n",
    "\n",
    "    convnet.fit(X_train, y_train, batch_size=200, epochs=epochs_per_fold, verbose=0,\n",
    "                validation_split=1.0/num_fold, callbacks=[convnet_hist])\n",
    "\n",
    "    hist[:, i, :] = [convnet_hist.history['accuracy'], convnet_hist.history['val_accuracy'],\n",
    "                     convnet_hist.history['loss'], convnet_hist.history['val_loss']]\n",
    "\n",
    "    y_predict = 1 + np.argmax(convnet.predict(X_train), axis=1)\n",
    "    f1scores[i] = metrics.f1_score(1 + np.argmax(y_train, axis=1), y_predict, average='micro')\n",
    "    print('F1 Score =', f1scores[i])\n",
    "\n",
    "    y_test_ohv[:, i, :] = convnet.predict(X_test)\n",
    "    all_predictions.append(1 + np.argmax(convnet.predict(X_test), axis=1))\n",
    "    \n",
    "print('Average F1 Score =', np.mean(f1scores))"
   ]
  },
  {
   "cell_type": "code",
   "execution_count": 26,
   "metadata": {},
   "outputs": [
    {
     "data": {
      "text/plain": [
       "<matplotlib.legend.Legend at 0x1a27d7cc88>"
      ]
     },
     "execution_count": 26,
     "metadata": {},
     "output_type": "execute_result"
    },
    {
     "data": {
      "image/png": "[encoded data removed]",
      "text/plain": [
       "<Figure size 432x288 with 1 Axes>"
      ]
     },
     "metadata": {
      "needs_background": "light"
     },
     "output_type": "display_data"
    }
   ],
   "source": [
    "# Plot callbacks\n",
    "hist = np.reshape(hist, (4, num_fold * epochs_per_fold))\n",
    "plt.plot(hist[0]); plt.plot(hist[1])\n",
    "plt.legend(['train', 'val'], loc='lower left')"
   ]
  },
  {
   "cell_type": "code",
   "execution_count": 27,
   "metadata": {},
   "outputs": [
    {
     "data": {
      "text/plain": [
       "<matplotlib.legend.Legend at 0x1a277479b0>"
      ]
     },
     "execution_count": 27,
     "metadata": {},
     "output_type": "execute_result"
    },
    {
     "data": {
      "image/png": "[encoded data removed]",
      "text/plain": [
       "<Figure size 432x288 with 1 Axes>"
      ]
     },
     "metadata": {
      "needs_background": "light"
     },
     "output_type": "display_data"
    }
   ],
   "source": [
    "# Plot callbacks\n",
    "hist = np.reshape(hist, (4, num_fold * epochs_per_fold))\n",
    "plt.plot(hist[2]); plt.plot(hist[3])\n",
    "plt.legend(['train', 'val'], loc='lower left')"
   ]
  },
  {
   "cell_type": "code",
   "execution_count": null,
   "metadata": {},
   "outputs": [],
   "source": [
    "\n",
    "y_pred = 1 + np.argmax(np.sum(y_test_ohv, axis=1), axis=1)\n",
    "np.save('TIP160_CNN_predicted.npy', y_pred)\n",
    "np.save('TIP160_CNN_3realizations.npy', y_test_ohv)"
   ]
  },
  {
   "cell_type": "code",
   "execution_count": 51,
   "metadata": {},
   "outputs": [
    {
     "data": {
      "text/plain": [
       "0.6755421686746987"
      ]
     },
     "execution_count": 51,
     "metadata": {},
     "output_type": "execute_result"
    }
   ],
   "source": [
    "tested_accuracies = []\n",
    "for i in range(len(all_predictions)):\n",
    "    acc_i = f1_score(y_test, all_predictions[i], average='micro')\n",
    "    tested_accuracies.append(acc_i)\n",
    "    \n",
    "mean(tested_accuracies)"
   ]
  },
  {
   "cell_type": "code",
   "execution_count": 71,
   "metadata": {},
   "outputs": [],
   "source": [
    "acc = f1_score(y_test, y_pred, average='micro')"
   ]
  },
  {
   "cell_type": "code",
   "execution_count": 72,
   "metadata": {},
   "outputs": [
    {
     "data": {
      "text/plain": [
       "0.7108433734939759"
      ]
     },
     "execution_count": 72,
     "metadata": {},
     "output_type": "execute_result"
    }
   ],
   "source": [
    "acc"
   ]
  },
  {
   "cell_type": "code",
   "execution_count": 73,
   "metadata": {},
   "outputs": [],
   "source": [
    "adjacent_list = [\n",
    "    [1, 2],\n",
    "    [1, 2, 3],\n",
    "    [2, 3],\n",
    "    [4, 5],\n",
    "    [4, 5, 6],\n",
    "    [5, 6, 7, 8],\n",
    "    [6, 7, 8],\n",
    "    [6, 7, 8, 9],\n",
    "    [7, 8, 9]\n",
    "]"
   ]
  },
  {
   "cell_type": "code",
   "execution_count": 74,
   "metadata": {},
   "outputs": [],
   "source": [
    "# Placeholder list for calculating mean acc of all 100 predicted arrays\n",
    "adjacent_accuracy = []\n",
    "\n",
    "# Looping through each of the 100 realizations in y_pred\n",
    "#for column in range(y_pred.shape[0]):\n",
    "#y_pred_local = y_pred[column]\n",
    "adj_accuracy = []\n",
    "# Looping through each int in the predicted y-hat array\n",
    "for i in range(len(y_pred)):\n",
    "# Finding the correct Facies category\n",
    "    for cat in range(1, 10):\n",
    "        if y_test[i] == cat:\n",
    "            # If the predicted y-value is one of the adjacent Facies to the actual Facies-class...\n",
    "            if y_pred[i] in adjacent_list[cat-1]:\n",
    "                # ... Judge the prediction to be correct\n",
    "                adj_accuracy.append(1)\n",
    "            else:\n",
    "                adj_accuracy.append(0)\n",
    "# Add accuracy for column to list of all adjacent accuracies\n",
    "adjacent_accuracy.append(mean(adj_accuracy))"
   ]
  },
  {
   "cell_type": "code",
   "execution_count": 75,
   "metadata": {},
   "outputs": [
    {
     "data": {
      "text/plain": [
       "0.9337349397590361"
      ]
     },
     "execution_count": 75,
     "metadata": {},
     "output_type": "execute_result"
    }
   ],
   "source": [
    "mean(adj_accuracy)"
   ]
  },
  {
   "cell_type": "code",
   "execution_count": null,
   "metadata": {},
   "outputs": [],
   "source": []
  }
 ],
 "metadata": {
  "kernelspec": {
   "display_name": "Python 3",
   "language": "python",
   "name": "python3"
  },
  "language_info": {
   "codemirror_mode": {
    "name": "ipython",
    "version": 3
   },
   "file_extension": ".py",
   "mimetype": "text/x-python",
   "name": "python",
   "nbconvert_exporter": "python",
   "pygments_lexer": "ipython3",
   "version": "3.7.3"
  }
 },
 "nbformat": 4,
 "nbformat_minor": 4
}
